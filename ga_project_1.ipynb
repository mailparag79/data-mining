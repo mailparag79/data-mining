{
 "cells": [
  {
   "cell_type": "markdown",
   "metadata": {},
   "source": [
    "<img src=\"http://imgur.com/1ZcRyrc.png\" style=\"float: left; margin: 20px; height: 55px\">\n",
    "\n",
    "# Project 1: Python Coding Exercises\n",
    "\n",
    "_Authors: Joseph Nelson (DC) _\n",
    "\n",
    "---"
   ]
  },
  {
   "cell_type": "markdown",
   "metadata": {},
   "source": [
    "The following code challenges are drawn from common exercises used in technical interviews.\n",
    "\n",
    "Please note that there may be several ways to approach each challenge. If you get stuck, try mapping out your approach in pseudocode first. Finally, while solutions to problems like these may be found online, remember that if you copy/paste code that you can't explain, you'll be missing out on the point of the project. The only way to truly learn a new skill is through practice, trial, and error - we can only help you improve by understanding where you are having trouble."
   ]
  },
  {
   "cell_type": "markdown",
   "metadata": {},
   "source": [
    "### Challenge 1: Largest Palindrome\n",
    "A palindromic number reads the same both ways. For example, 1234321 is a palindrome. The largest palindrome made from the product of two two-digit numbers is 9009 = 91 × 99. Find the largest palindrome made from the product of two three-digit numbers. Afterward, write a brief explanation walking through your code's logic in markdown."
   ]
  },
  {
   "cell_type": "code",
   "execution_count": 50,
   "metadata": {},
   "outputs": [
    {
     "name": "stdout",
     "output_type": "stream",
     "text": [
      "906609\n"
     ]
    }
   ],
   "source": [
    "## check if number is palindrome\n",
    "def is_palindrome(num):\n",
    "    return str(num) == str(num)[::-1]\n",
    "\n",
    "## initialize max number with smallest possible digit e.g. 0\n",
    "max_p = 0\n",
    "## for each number from 100 to 999, multiply numbers with each other and check if its palindrome\n",
    "## if it is then check against running max and assign if it greater than previous max.\n",
    "for i in range(100, 999):\n",
    "    for j in range(100, 999):\n",
    "        p = i*j\n",
    "        if is_palindrome(p) and p > max_p:\n",
    "            max_p = p\n",
    "print(max_p)"
   ]
  },
  {
   "cell_type": "markdown",
   "metadata": {},
   "source": []
  },
  {
   "cell_type": "markdown",
   "metadata": {},
   "source": [
    "\n",
    "### Challenge 2: Summation of Primes\n",
    "The sum of the primes below 10 is 2 + 3 + 5 + 7 = 17. Find the sum of all the primes below 2,000. Afterward, write a brief explanation walking through your code's logic in markdown."
   ]
  },
  {
   "cell_type": "code",
   "execution_count": 5,
   "metadata": {},
   "outputs": [
    {
     "name": "stdout",
     "output_type": "stream",
     "text": [
      "277050\n"
     ]
    }
   ],
   "source": [
    "## check if number is prime or not.\n",
    "## number is prime if its divisible by itself or by 1\n",
    "def is_prime(n):\n",
    "    if n == 2 or n == 3: return True\n",
    "    if n < 2 or n % 2 == 0: return False\n",
    "    if n < 9: return True\n",
    "    if n % 3 == 0: return False\n",
    "    r = int(n**0.5)\n",
    "    f = 5\n",
    "    while f <= r:\n",
    "        if n%f == 0: return False\n",
    "        if n%(f+2) == 0: return False\n",
    "        f +=6\n",
    "    return True   \n",
    "\n",
    "## check all numbers less then 2000 if number is prime then add it to running sum\n",
    "sum_p = 0\n",
    "for i in range(2000):\n",
    "    if is_prime(i):\n",
    "        sum_p += i\n",
    "        \n",
    "print(sum_p)"
   ]
  },
  {
   "cell_type": "markdown",
   "metadata": {},
   "source": []
  },
  {
   "cell_type": "markdown",
   "metadata": {},
   "source": [
    "### Challenge 3: Multiples of 3 and 5\n",
    "If we list all of the natural numbers below 10 that are multiples of 3 or 5, we get 3, 5, 6, and 9. The sum of these multiples is 23. Find the sum of all the multiples of 3 or 5 below 1,000. Afterward, write a brief explanation walking through your code's logic in markdown."
   ]
  },
  {
   "cell_type": "code",
   "execution_count": 9,
   "metadata": {},
   "outputs": [
    {
     "name": "stdout",
     "output_type": "stream",
     "text": [
      "233168\n"
     ]
    }
   ],
   "source": [
    "## check if number is multiple of 3 or 5\n",
    "def is_multiple(num):\n",
    "    if num % 3 == 0 or num % 5 == 0:\n",
    "        return True\n",
    "    \n",
    "    return False\n",
    "\n",
    "## for all numbers less then 1000 add numbers if its multiple of 3 or 5.\n",
    "sum_m = 0\n",
    "for i in range(1000):\n",
    "    if is_multiple(i):\n",
    "        sum_m += i\n",
    "        \n",
    "print(sum_m)"
   ]
  },
  {
   "cell_type": "markdown",
   "metadata": {},
   "source": []
  },
  {
   "cell_type": "markdown",
   "metadata": {},
   "source": [
    "### Challenge 4: String Compressor\n",
    "Implement a method to perform basic string compression using the counts of repeated characters. (This is called run-length encoding.) For example, the string \"aabcccccaaa\" would become a2b1c5a3. If the “compressed” string would not become smaller than the original string, your method should return the original string. You can assume the string has only uppercase and lowercase letters (a–z). Specify whether your solution is case sensitive or case insensitive and what you would need to change to make it the other. Afterward, write a brief explanation walking through your code's logic in markdown."
   ]
  },
  {
   "cell_type": "code",
   "execution_count": 34,
   "metadata": {},
   "outputs": [
    {
     "data": {
      "text/plain": [
       "'a2b1c5a3'"
      ]
     },
     "execution_count": 34,
     "metadata": {},
     "output_type": "execute_result"
    }
   ],
   "source": [
    "## in list store word and on next index store running count\n",
    "## reset that running count and increment index if previous word is not equal to next word\n",
    "## in the end convert list to string and return the compressed string.\n",
    "def compress(word):\n",
    "    word_list = list()\n",
    "    index = 0\n",
    "    for w in word:\n",
    "        if len(word_list) == 0:\n",
    "            word_list.append(w)\n",
    "            word_list.append(1)\n",
    "        else:\n",
    "            if word_list[index] == w:\n",
    "                word_list[index+1] += 1\n",
    "            else:\n",
    "                word_list.append(w)\n",
    "                word_list.append(1)\n",
    "                index += 2\n",
    "    \n",
    "    return ''.join(str(w) for w in word_list)\n",
    "compress('aabcccccaaa')"
   ]
  },
  {
   "cell_type": "code",
   "execution_count": null,
   "metadata": {},
   "outputs": [],
   "source": []
  },
  {
   "cell_type": "markdown",
   "metadata": {},
   "source": []
  },
  {
   "cell_type": "markdown",
   "metadata": {},
   "source": [
    "### Challenge 5: FizzBuzz\n",
    "\n",
    "Write a program that prints all of the numbers from 1 to 100. For multiples of 3, instead of the number, print \"Fizz;\" for multiples of 5, print \"Buzz.\" For numbers that are multiples of both 3 and 5, print \"FizzBuzz.\" Afterward, write a brief explanation walking through your code's logic in markdown."
   ]
  },
  {
   "cell_type": "code",
   "execution_count": 37,
   "metadata": {},
   "outputs": [
    {
     "name": "stdout",
     "output_type": "stream",
     "text": [
      "1\n",
      "2\n",
      "Fizz;\n",
      "4\n",
      "Buzz.\n",
      "Fizz;\n",
      "7\n",
      "8\n",
      "Fizz;\n",
      "Buzz.\n",
      "11\n",
      "Fizz;\n",
      "13\n",
      "14\n",
      "FizzBuzz.\n",
      "16\n",
      "17\n",
      "Fizz;\n",
      "19\n",
      "Buzz.\n",
      "Fizz;\n",
      "22\n",
      "23\n",
      "Fizz;\n",
      "Buzz.\n",
      "26\n",
      "Fizz;\n",
      "28\n",
      "29\n",
      "FizzBuzz.\n",
      "31\n",
      "32\n",
      "Fizz;\n",
      "34\n",
      "Buzz.\n",
      "Fizz;\n",
      "37\n",
      "38\n",
      "Fizz;\n",
      "Buzz.\n",
      "41\n",
      "Fizz;\n",
      "43\n",
      "44\n",
      "FizzBuzz.\n",
      "46\n",
      "47\n",
      "Fizz;\n",
      "49\n",
      "Buzz.\n",
      "Fizz;\n",
      "52\n",
      "53\n",
      "Fizz;\n",
      "Buzz.\n",
      "56\n",
      "Fizz;\n",
      "58\n",
      "59\n",
      "FizzBuzz.\n",
      "61\n",
      "62\n",
      "Fizz;\n",
      "64\n",
      "Buzz.\n",
      "Fizz;\n",
      "67\n",
      "68\n",
      "Fizz;\n",
      "Buzz.\n",
      "71\n",
      "Fizz;\n",
      "73\n",
      "74\n",
      "FizzBuzz.\n",
      "76\n",
      "77\n",
      "Fizz;\n",
      "79\n",
      "Buzz.\n",
      "Fizz;\n",
      "82\n",
      "83\n",
      "Fizz;\n",
      "Buzz.\n",
      "86\n",
      "Fizz;\n",
      "88\n",
      "89\n",
      "FizzBuzz.\n",
      "91\n",
      "92\n",
      "Fizz;\n",
      "94\n",
      "Buzz.\n",
      "Fizz;\n",
      "97\n",
      "98\n",
      "Fizz;\n"
     ]
    }
   ],
   "source": [
    "## First check if num is both multiple of 3 and 5 then return FizzBuzz\n",
    "## then check if number is multiple of 3 then return Fizz\n",
    "## then check if number is multiple of 5 then return Buzz\n",
    "## or else return that original num.\n",
    "def fizzbuzz(num):\n",
    "    if num % 3 == 0 and num % 5 == 0:\n",
    "        return 'FizzBuzz.'\n",
    "    if num % 3 == 0:\n",
    "        return 'Fizz;'\n",
    "    if num % 5 == 0:\n",
    "        return 'Buzz.'\n",
    "    return num\n",
    "\n",
    "for i in range(1, 100):\n",
    "    print (fizzbuzz(i))\n",
    "    "
   ]
  },
  {
   "cell_type": "markdown",
   "metadata": {},
   "source": []
  }
 ],
 "metadata": {
  "anaconda-cloud": {},
  "kernelspec": {
   "display_name": "Python 3",
   "language": "python",
   "name": "python3"
  },
  "language_info": {
   "codemirror_mode": {
    "name": "ipython",
    "version": 3
   },
   "file_extension": ".py",
   "mimetype": "text/x-python",
   "name": "python",
   "nbconvert_exporter": "python",
   "pygments_lexer": "ipython3",
   "version": "3.6.4"
  }
 },
 "nbformat": 4,
 "nbformat_minor": 2
}
