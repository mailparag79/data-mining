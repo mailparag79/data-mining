{
 "cells": [
  {
   "cell_type": "code",
   "execution_count": null,
   "metadata": {},
   "outputs": [],
   "source": [
    "import matplotlib.pyplot as plt\n",
    "import seaborn as sns\n",
    "import pandas as pd\n",
    "import numpy as np\n",
    "\n",
    "from sklearn import model_selection\n",
    "from sklearn.linear_model import LinearRegression\n",
    "from sklearn.model_selection import train_test_split\n",
    "from sklearn.preprocessing import PolynomialFeatures\n",
    "from sklearn import metrics\n",
    "from sklearn.metrics import mean_squared_error\n",
    "from statsmodels.tsa.arima_model import ARIMA\n",
    "\n",
    "% matplotlib inline\n",
    "\n",
    "plt.rcParams['figure.figsize'] = (16.0, 8.0)\n",
    "pd.set_option('display.precision',9)"
   ]
  },
  {
   "cell_type": "code",
   "execution_count": null,
   "metadata": {},
   "outputs": [],
   "source": [
    "df = pd.read_csv('./bw_cleaned_data.csv')\n",
    "df = df[df.loc[:, 'ts'] != 'ts']\n",
    "df.loc[:, 'bandwidth'] = pd.to_numeric(df.loc[:, 'bandwidth'], errors='coerce')\n",
    "df['ts'] = pd.to_datetime(df['ts'], utc=True)\n",
    "\n",
    "dates = df['ts']\n",
    "df.loc[:, 'ts'] = dates.dt.strftime('%Y-%m-%d %H:%M:%S')\n",
    "\n",
    "df['ts'] = pd.to_datetime(df['ts'], utc=True)\n",
    "\n",
    "df.head()"
   ]
  },
  {
   "cell_type": "code",
   "execution_count": null,
   "metadata": {},
   "outputs": [],
   "source": [
    "df.set_index('ts', inplace=True)\n",
    "df.sort_index(inplace=True)\n"
   ]
  },
  {
   "cell_type": "code",
   "execution_count": null,
   "metadata": {},
   "outputs": [],
   "source": [
    "df.head()"
   ]
  },
  {
   "cell_type": "code",
   "execution_count": null,
   "metadata": {},
   "outputs": [],
   "source": [
    "df = df[(df.index.day > 6) & (df.index.day <= 7) & (df.index.month == 2)]\n",
    "plt.plot(df)"
   ]
  },
  {
   "cell_type": "code",
   "execution_count": null,
   "metadata": {},
   "outputs": [],
   "source": [
    "#Train test split\n",
    "size = int(len(df) * 0.80)\n",
    "train, test = df.iloc[0:size, :], df.iloc[size:len(df), :]\n"
   ]
  },
  {
   "cell_type": "code",
   "execution_count": null,
   "metadata": {},
   "outputs": [],
   "source": [
    "train.head()"
   ]
  },
  {
   "cell_type": "code",
   "execution_count": null,
   "metadata": {},
   "outputs": [],
   "source": [
    "model = ARIMA(train['bandwidth'], order=(0, 0, 3), freq=\"S\", dates=train.index)\n",
    "model_fit = model.fit(disp=-1, method = 'css', trend='nc', solver='powell', max_iter = 1000)\n",
    "print(len(test))\n",
    "predictions = []\n",
    "for t in range(0, len(test)):\n",
    "    predictions.append(model_fit.forecast()[0])\n",
    "    \n",
    "obs = list(test.iloc[0:len(test)]['bandwidth'])\n",
    "error = mean_squared_error(obs, predictions)\n",
    "print('Test MSE: %.4f' % error)\n",
    "# plot\n",
    "plt.plot(obs)\n",
    "plt.plot(predictions, color='red')\n",
    "plt.show()"
   ]
  },
  {
   "cell_type": "code",
   "execution_count": null,
   "metadata": {},
   "outputs": [],
   "source": [
    "predictions[9]\n",
    "obs[9]"
   ]
  },
  {
   "cell_type": "code",
   "execution_count": null,
   "metadata": {},
   "outputs": [],
   "source": [
    "model_ar_ma = ARIMA(train['bandwidth'], order=(2, 1, 2), freq=\"S\", dates=train.index)\n",
    "model_fit_ar_ma = model_ar_ma.fit(disp=-1, method = 'css', trend='nc', solver='powell', max_iter = 1000)\n",
    "predictions = []\n",
    "for t in range(0, len(test)):\n",
    "    predictions.append(model_fit_ar_ma.forecast()[0])\n",
    "    \n",
    "obs = list(test.iloc[0:len(test)]['bandwidth'])\n",
    "error = mean_squared_error(obs, predictions)\n",
    "print('Test MSE: %.4f' % error)\n",
    "# plot\n",
    "plt.plot(obs)\n",
    "plt.plot(predictions, color='red')\n",
    "plt.show()"
   ]
  },
  {
   "cell_type": "code",
   "execution_count": null,
   "metadata": {},
   "outputs": [],
   "source": [
    "from fbprophet import Prophet\n",
    "df_prophet = pd.read_csv('./bw_cleaned_data.csv')\n",
    "df_prophet = df_prophet[df_prophet.loc[:, 'ts'] != 'ts']\n",
    "df_prophet.loc[:, 'bandwidth'] = pd.to_numeric(df_prophet.loc[:, 'bandwidth'], errors='coerce')\n",
    "df_prophet.head()"
   ]
  },
  {
   "cell_type": "code",
   "execution_count": null,
   "metadata": {},
   "outputs": [],
   "source": [
    "df_prophet_train.rename(columns={'bandwidth': 'y', 'ts': 'ds'}, inplace=True)\n",
    "df_prophet_test.rename(columns={'bandwidth': 'y', 'ts': 'ds'}, inplace=True)"
   ]
  },
  {
   "cell_type": "code",
   "execution_count": null,
   "metadata": {},
   "outputs": [],
   "source": [
    "dates = df_prophet_train['ds']\n",
    "df_prophet_train.loc[:, 'ds'] = dates.dt.strftime('%Y-%m-%d %H:%M:%S')\n",
    "\n",
    "dates_test = df_prophet_test['ds']\n",
    "df_prophet_test.loc[:, 'ds'] = dates_test.dt.strftime('%Y-%m-%d %H:%M:%S')"
   ]
  },
  {
   "cell_type": "code",
   "execution_count": null,
   "metadata": {},
   "outputs": [],
   "source": [
    "df_prophet_train.head()"
   ]
  },
  {
   "cell_type": "code",
   "execution_count": null,
   "metadata": {},
   "outputs": [],
   "source": [
    "m = Prophet()\n",
    "m.fit(df_prophet_train)"
   ]
  },
  {
   "cell_type": "code",
   "execution_count": null,
   "metadata": {},
   "outputs": [],
   "source": [
    "future = m.make_future_dataframe(periods=300, freq='S')\n",
    "fcst = m.predict(future)\n",
    "fig = m.plot(fcst)"
   ]
  },
  {
   "cell_type": "code",
   "execution_count": null,
   "metadata": {},
   "outputs": [],
   "source": [
    "import itertools\n",
    "# define the p, d and q parameters to take any value between 0 and 2\n",
    "p = d = q = range(0, 4)\n",
    " \n",
    "# generate all different combinations of p, d and q triplets\n",
    "pdq = list(itertools.product(p, d, q))\n",
    " \n",
    "# generate all different combinations of seasonal p, q and q triplets\n",
    "seasonal_pdq = [(x[0], x[1], x[2], 12) for x in list(itertools.product(p, d, q))]\n"
   ]
  },
  {
   "cell_type": "code",
   "execution_count": null,
   "metadata": {},
   "outputs": [],
   "source": [
    "from statsmodels.tsa.statespace import sarimax\n",
    "import sys\n",
    "best_aic = np.inf\n",
    "best_pdq = None\n",
    "best_seasonal_pdq = None\n",
    "tmp_model = None\n",
    "best_mdl = None\n",
    " \n",
    "for param in pdq:\n",
    "    for param_seasonal in seasonal_pdq:\n",
    "        try:\n",
    "            tmp_mdl = sarimax.SARIMAX(train,\n",
    "                                                order = param,\n",
    "                                                seasonal_order = param_seasonal,\n",
    "                                                enforce_stationarity=True,\n",
    "                                                enforce_invertibility=True)\n",
    "            res = tmp_mdl.fit()\n",
    "            if res.aic < best_aic:\n",
    "                best_aic = res.aic\n",
    "                best_pdq = param\n",
    "                best_seasonal_pdq = param_seasonal\n",
    "                best_mdl = tmp_mdl\n",
    "        except:\n",
    "            print(\"Unexpected error:\", sys.exc_info()[0])\n",
    "            continue\n",
    "print(\"Best SARIMAX{}x{}12 model - AIC:{}\".format(best_pdq, best_seasonal_pdq, best_aic))\n"
   ]
  },
  {
   "cell_type": "code",
   "execution_count": null,
   "metadata": {},
   "outputs": [],
   "source": []
  }
 ],
 "metadata": {
  "kernelspec": {
   "display_name": "Python 3",
   "language": "python",
   "name": "python3"
  },
  "language_info": {
   "codemirror_mode": {
    "name": "ipython",
    "version": 3
   },
   "file_extension": ".py",
   "mimetype": "text/x-python",
   "name": "python",
   "nbconvert_exporter": "python",
   "pygments_lexer": "ipython3",
   "version": "3.6.4"
  }
 },
 "nbformat": 4,
 "nbformat_minor": 2
}
